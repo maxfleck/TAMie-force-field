{
 "cells": [
  {
   "cell_type": "code",
   "execution_count": 1,
   "metadata": {},
   "outputs": [],
   "source": [
    "import os\n",
    "import numpy as np\n",
    "from tools import apply_charge_group_approach, write_tabled_bond\n",
    "from pyLAMMPS import LAMMPS_input, get_molecule_coordinates, write_pair_ff"
   ]
  },
  {
   "cell_type": "code",
   "execution_count": 1,
   "metadata": {},
   "outputs": [],
   "source": [
    "import numpy as np\n",
    "def mean_properties(file,keys=[],fraction=0.7,print_out=False):\n",
    "    \n",
    "    \"\"\"\n",
    "    Function that reads in file and return time average of given properties\n",
    "    \n",
    "    Args:\n",
    "        file (string): Path to LAMMPS sampling output file \n",
    "        keys (list,string): Variable keys to average from output (do not include TimeStep)\n",
    "    \n",
    "    Returns:\n",
    "        values (list,float): Time averaged properties\n",
    "    \"\"\"\n",
    "    \n",
    "    with open(file) as f:\n",
    "        f.readline()\n",
    "        keys_lmp = f.readline().split()\n",
    "        idx_spec_keys = np.array([0]+[keys_lmp.index(k)-1 for k in keys if k in keys_lmp])\n",
    "        lines = np.array([np.array(line.split(\"\\n\")[0].split()).astype(\"float\")[idx_spec_keys] for line in f])\n",
    "\n",
    "    time       = lines[:,0]\n",
    "    start_time = fraction*time[-1]\n",
    "    \n",
    "\n",
    "    if print_out:\n",
    "        data = [a.flatten() for a in np.hsplit(lines,lines.ndim) ]\n",
    "        for i,dat in enumerate( data[1:] ):\n",
    "            plt.plot(data[0][time>start_time],dat[time>start_time],label=keys[i])\n",
    "            plt.ylabel(keys[i])\n",
    "            plt.xlabel(\"Timestep\")\n",
    "            plt.legend()\n",
    "            plt.show()\n",
    "            plt.close()\n",
    "\n",
    "    return np.squeeze(np.mean(lines[:,1:][time>start_time],axis=0))"
   ]
  },
  {
   "cell_type": "code",
   "execution_count": 7,
   "metadata": {},
   "outputs": [
    {
     "name": "stdout",
     "output_type": "stream",
     "text": [
      "1160.6645851339672\n",
      "1139.747625792024\n",
      "1118.8693647540983\n",
      "1099.087181451613\n",
      "1077.547827948618\n"
     ]
    }
   ],
   "source": [
    "for i in range(5):\n",
    "    p = f\"example/pure_ethanediol/sim_{i}/values.sampling\"\n",
    "    print( mean_properties(p,[\"v_mass_dens\"],fraction=0.0)*1000 )"
   ]
  },
  {
   "cell_type": "markdown",
   "metadata": {},
   "source": [
    "# Setting up LAMMPS MD simulations using the TAMie force field and the charge group approach #\n",
    "\n",
    "The following example will demonstrate how to setup MD simulations (this is also demonstrated in the example.ipynb). Essentially, the workflow can be summarized as follows: <br>\n",
    "1. Get intial molecule coordinates (e.g.: using SMILES and PubChem) and provide a graph representation.\n",
    "2. Use PLAYMOL to construct a system of any mixture.\n",
    "3. Use the moleculegraph software and python tools to generate LAMMPS data and input files via jinja2 templates."
   ]
  },
  {
   "cell_type": "markdown",
   "metadata": {},
   "source": [
    "## 1. Define general settings ##\n",
    "\n",
    "1. Define path to force field toml (in a moleculegraph understandable format),\n",
    "2. Define name, SMILES, and graph strings of the molecules under investigation.\n",
    "3. Call the python LAMMPS input class"
   ]
  },
  {
   "cell_type": "code",
   "execution_count": 2,
   "metadata": {},
   "outputs": [],
   "source": [
    "# 1: Path tho force field toml\n",
    "force_field_path     = \"force-fields/forcefield_lammps.toml\"\n",
    "\n",
    "# 2: Names, SMILES, and graphs of molecules (further examples on constructing molecule graphs available at https://github.com/maxfleck/moleculegraph)\n",
    "\n",
    "system_name          = \"pure_ethanediol\"\n",
    "\n",
    "molecule_name1       = \"ethanediol\"\n",
    "molecule_graph1      = \"[cH_alcohol][OH_alcohol][CH2_alcohol][CH2_alcohol][OH_alcohol][cH_alcohol]\"\n",
    "molecule_smiles1     = \"OCCO\"\n",
    "\n",
    "molecule_name_list   = [ molecule_name1 ]\n",
    "molecule_graph_list  = [ molecule_graph1 ]\n",
    "molecule_smiles_list = [ molecule_smiles1 ]\n",
    "\n",
    "# Path to working folder\n",
    "working_folder       = f\"example/{system_name}\"\n",
    "\n",
    "# Templates\n",
    "\n",
    "# Xyz templates\n",
    "template_xyz                 = \"templates/template_write_xyz.xyz\"\n",
    "\n",
    "# PLAYMOL templates\n",
    "playmol_force_field_template = \"templates/template_playmol_forcefield.playmol\"\n",
    "playmol_input_template       = \"templates/template_playmol_input.mol\"\n",
    "\n",
    "# LAMMPS template\n",
    "LAMMPS_table_template        = \"templates/template_lammps_bond_table.table\"\n",
    "LAMMPS_data_template         = \"templates/template_lammps_data.data\"\n",
    "LAMMPS_input_template        = \"templates/template_lammps_input.in\"\n",
    "LAMMPS_ff_template           = \"templates/template_lammps_ff.params\"\n",
    "\n",
    "# Define output path for final xyz files\n",
    "xyz_destinations     = [ f\"{working_folder}/initial_coordinates/%s.xyz\"%name for name in molecule_name_list ]\n",
    "\n",
    "# Get the single molecule coordinates for each component\n",
    "get_molecule_coordinates( molecule_name_list = molecule_name_list, molecule_graph_list = molecule_graph_list, molecule_smiles_list = molecule_smiles_list,\n",
    "                          xyz_destinations = xyz_destinations, template_xyz = template_xyz, verbose = False )\n",
    "\n",
    "\n",
    "# 3: Call the LAMMPS input class\n",
    "LAMMPS_class        = LAMMPS_input( mol_str = molecule_graph_list, ff_path = force_field_path )"
   ]
  },
  {
   "cell_type": "markdown",
   "metadata": {},
   "source": [
    "## 2. Write system size independent files ##\n",
    "\n",
    "1. The PLAYMOL force field file, which is used to build the initial configurations\n",
    "2. Utilize the charge group approach\n",
    "3. Write tabled bond interactions for the system: Define per component the two atoms in the torsion that was reparametrized (e.g.: 1,2-ethanediol: [\"OH_alcohol\",\"OH_alcohol\"] )\n"
   ]
  },
  {
   "cell_type": "code",
   "execution_count": 11,
   "metadata": {},
   "outputs": [
    {
     "name": "stdout",
     "output_type": "stream",
     "text": [
      "\n",
      "Charge group approach is applied to molecule: [cH_alcohol][OH_alcohol][CH2_alcohol][CH2_alcohol][OH_alcohol][cH_alcohol]\n",
      "\n",
      "These are the local dipols identified:\n",
      "Local dipol n°0: cH_alcohol OH_alcohol CH2_alcohol\n",
      "Local dipol n°1: CH2_alcohol OH_alcohol cH_alcohol\n",
      "Local dipol n°2: cH_alcohol CH2_alcohol OH_alcohol\n",
      "Local dipol n°3: cH_alcohol OH_alcohol CH2_alcohol\n",
      "\n",
      "\n",
      "These are the unique special bonds that are added for intramolecular interaction:\n",
      "CH2_alcohol CH2_alcohol\n",
      "OH_alcohol CH2_alcohol\n",
      "cH_alcohol CH2_alcohol\n",
      "OH_alcohol OH_alcohol\n",
      "cH_alcohol OH_alcohol\n",
      "cH_alcohol cH_alcohol\n",
      "\n"
     ]
    }
   ],
   "source": [
    "# 1: PLAYMOL force field file\n",
    "\n",
    "playmol_force_field_destination = f\"{working_folder}/playmol_ff.playmol\"\n",
    "\n",
    "LAMMPS_class.prepare_playmol_input( playmol_template = playmol_force_field_template, playmol_ff_path = playmol_force_field_destination )\n",
    "\n",
    "# 2: Use the charge group approach (and overwrite the bonded information of the moleculegraph object)\n",
    "\n",
    "table_path  = \"../../bonded_interactions.table\"\n",
    "LAMMPS_class.bonds = apply_charge_group_approach( mol_list = LAMMPS_class.mol_list, force_field = LAMMPS_class.ff, table_path = table_path )\n",
    "\n",
    "# Prepare LAMMPS force field with the given molecules --> these are altered through the charge group approach\n",
    "LAMMPS_class.prepare_lammps_force_field()\n",
    "\n",
    "# 3: Tabled bond interactions\n",
    "\n",
    "LAMMPS_table_destination = f\"{working_folder}/bonded_interactions.table\"\n",
    "\n",
    "write_tabled_bond( mol_list = LAMMPS_class.mol_list, force_field = LAMMPS_class.ff, \n",
    "                   table_path = LAMMPS_table_destination, table_template = LAMMPS_table_template )"
   ]
  },
  {
   "cell_type": "markdown",
   "metadata": {},
   "source": [
    "## 3. Write system size dependent files ##\n",
    "\n",
    "1. Define general (thermodynamic) settings for each system.\n",
    "2. Write PLAYMOL input file and execute it to build the system (if wanted).\n",
    "3. Write LAMMPS data file using the from PLAYMOL generated xyz file\n",
    "4. Write LAMMPS input file for each system"
   ]
  },
  {
   "cell_type": "code",
   "execution_count": 10,
   "metadata": {},
   "outputs": [],
   "source": [
    "# 1: Define general settings for each system\n",
    "# Temperatures [K], pressures [bar] (if wanted, otherwise use 0.0) and initial denisties [kg/m^3] for each system. Also define the number of molecules per component.\n",
    "\n",
    "temperatures     = [ 273.15, 298.15]\n",
    "pressures        = [ 1.0, 1.0 ]\n",
    "densities        = [ 1125, 1110 ]\n",
    "\n",
    "# Define the total number of molecules in the simulation and the compositions per statepoint\n",
    "molecule_number  = 500\n",
    "compositions     = [ [ 1.0 ] , [ 1.0 ] ]\n",
    "\n",
    "# Simulation path\n",
    "simulation_path  = f\"{working_folder}/sim_%d\"\n",
    "\n",
    "# Define if PLAYMOL should be executed and further settings\n",
    "build_playmol             = False\n",
    "\n",
    "# Define additional functions that can be parsed to the LAMMPS input class. They can operate with class atributes, if the input arguments have the same name as the class argument.\n",
    "# Furthermore define possible external function inputs that are also passed to the functions (per function define a new dictionary with inputs).\n",
    "# In this example the write_pair_ff is a function that writes the van der Waals pair interactions. external arguments can be, that the force field is writen to an external file instead within the \n",
    "# input file.\n",
    "external_functions = [ write_pair_ff ]\n",
    "lammps_ff_path     = f\"{working_folder}/lammps_ff.params\"\n",
    "\n",
    "for i, (temp, press, dens, composition) in enumerate( zip( temperatures, pressures, densities, compositions ) ):\n",
    "\n",
    "    # Create the simulation folder (if not already done)\n",
    "    os.makedirs( simulation_path%i, exist_ok = True )\n",
    "\n",
    "    # Prepare LAMMPS with molecules numbers and density of the system\n",
    "    # Get the molecule numbers according to the mixture composition (utilize closing condition for first component) \n",
    "    remaining_numbers = ( np.array(composition[1:]) * molecule_number ).astype(\"int\")\n",
    "    molecule_numbers  = [ molecule_number - sum(remaining_numbers), *(remaining_numbers if sum(remaining_numbers) > 0 else []) ]\n",
    "\n",
    "    LAMMPS_class.prepare_lammps_data (nmol_list = molecule_numbers, density = dens )\n",
    "\n",
    "\n",
    "    # 2: Write PLAYMOL input and execute (if wanted.)\n",
    "    playmol_input_destination = simulation_path%i + f\"/build/{system_name}_{i}.mol\"\n",
    "    \n",
    "    if build_playmol:\n",
    "        playmol_relative_ff_path  = os.path.relpath(playmol_force_field_destination, os.path.dirname(playmol_input_destination))\n",
    "        playmol_relative_xyz_path = [ os.path.relpath(xyz, os.path.dirname(playmol_input_destination)) for xyz in xyz_destinations ]\n",
    "\n",
    "        LAMMPS_class.write_playmol_input( playmol_template = playmol_input_template, playmol_path = playmol_input_destination, \n",
    "                                          playmol_ff_path = playmol_relative_ff_path, xyz_paths = playmol_relative_xyz_path )\n",
    "\n",
    "\n",
    "    # 3: Write LAMMPS data file from generated xyz file\n",
    "    system_xyz              = playmol_input_destination.replace( \".mol\", \".xyz\" )\n",
    "    LAMMPS_data_destination = simulation_path%i + \"/build/lammps.data\"\n",
    "\n",
    "    LAMMPS_class.write_lammps_data( xyz_path = system_xyz, data_template = LAMMPS_data_template, data_path = LAMMPS_data_destination )\n",
    "\n",
    "\n",
    "    # 4: Write LAMMPS input file\n",
    "    LAMMPS_input_destination  = simulation_path%i + \"/simulation/lammps.input\"\n",
    "    relative_LAMMPS_data_path = os.path.relpath(LAMMPS_data_destination, os.path.dirname(LAMMPS_input_destination))\n",
    "   \n",
    "    LAMMPS_class.prepare_lammps_input( )\n",
    "    \n",
    "    external_function_input = [ { \"ff_template\": LAMMPS_ff_template, \"lammps_ff_path\": lammps_ff_path, \n",
    "                                  \"relative_lammps_ff_path\": os.path.relpath(lammps_ff_path, os.path.dirname(LAMMPS_input_destination)) } ]\n",
    "\n",
    "    LAMMPS_class.write_lammps_input( input_path = LAMMPS_input_destination, template_path = LAMMPS_input_template, data_file = relative_LAMMPS_data_path,\n",
    "                                     temperature = temp, pressure = press, equilibration_time = 2e6, production_time = 1e6,\n",
    "                                     external_functions = external_functions, external_function_input = external_function_input )"
   ]
  }
 ],
 "metadata": {
  "kernelspec": {
   "display_name": "base",
   "language": "python",
   "name": "python3"
  },
  "language_info": {
   "codemirror_mode": {
    "name": "ipython",
    "version": 3
   },
   "file_extension": ".py",
   "mimetype": "text/x-python",
   "name": "python",
   "nbconvert_exporter": "python",
   "pygments_lexer": "ipython3",
   "version": "3.10.11"
  }
 },
 "nbformat": 4,
 "nbformat_minor": 2
}
