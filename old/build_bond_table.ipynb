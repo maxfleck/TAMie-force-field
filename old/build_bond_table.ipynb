{
 "cells": [
  {
   "cell_type": "code",
   "execution_count": 1,
   "id": "58ae02ff",
   "metadata": {},
   "outputs": [],
   "source": [
    "import numpy as np\n",
    "from jinja2 import Template\n",
    "import glob, os\n",
    "import matplotlib.pyplot as plt\n",
    "from feos.si import *\n",
    "import moleculegraph\n",
    "from moleculegraph.funcs import read_pair_potentials, read_bond_potentials, read_angle_potentials, read_torsion_potentials"
   ]
  },
  {
   "cell_type": "code",
   "execution_count": 2,
   "id": "e17eb472",
   "metadata": {},
   "outputs": [
    {
     "name": "stdout",
     "output_type": "stream",
     "text": [
      "1.2-Ethanediol\n"
     ]
    }
   ],
   "source": [
    "# Define Molecule\n",
    "\n",
    "\n",
    "species = \"1.2-Ethanediol\"\n",
    "print(species)\n",
    "mol    = \"[cH_alcohol][OH_alcohol][CH2_alcohol][CH2_alcohol][OH_alcohol][cH_alcohol]\"\n",
    "reftor = [1,2,3,4]\n",
    "\n",
    "\n",
    "#species = \"1.3-Propanediol\"\n",
    "#print(species)\n",
    "#mol    = \"[cH_alcohol][OH_alcohol][CH2_alcohol][CH2_alkane][CH2_alcohol][OH_alcohol][cH_alcohol]\"\n",
    "#reftor = [1,2,3,4]\n",
    "#reftor = []\n",
    "\n",
    "\n",
    "#species = \"1.4-Butanediol\"\n",
    "#print(species)\n",
    "#mol    = \"[cH_alcohol][OH_alcohol][CH2_alcohol][CH2_alkane][CH2_alkane][CH2_alcohol][OH_alcohol][cH_alcohol]\"\n",
    "#reftor = [2,3,4,5]\n",
    "\n",
    "    \n",
    "# path to force-field\n",
    "path = \"force-fields/UA_devel/\"    \n",
    "    \n",
    "molecule = moleculegraph.molecule(mol)\n",
    "\n",
    "# If a torsion is twice in one molecule, then evaluate the mie interaction for every 1.4 pair in this molecule\n",
    "\n",
    "reftor_name = [k for k,l in zip(molecule.torsion_keys,molecule.torsion_list) if list(l) == reftor ][0]\n",
    "reftor_list = [[l[0],l[3]] for k,l in zip(molecule.torsion_keys,molecule.torsion_list) if reftor_name == k]"
   ]
  },
  {
   "cell_type": "code",
   "execution_count": 3,
   "id": "754eaf0e",
   "metadata": {},
   "outputs": [],
   "source": [
    "from scipy.constants import epsilon_0,k,e\n",
    "\n",
    "def calc_mie(r: np.ndarray, sigma: float, eps: float, n: int, m: int=6, key: str= \"energy\"):\n",
    "    \"\"\"\n",
    "    This function computes the energy / force of the Mie potential for a given sigma, epsilon, distance, and repuslive, attrative exponent.\n",
    "\n",
    "    Args:\n",
    "        r (np.ndarray): Distance of the two atoms. Given in the same unit as sigma.\n",
    "        sigma (float): Mixed sigma of the two atoms. Given in the same unit as the distance.\n",
    "        eps (float): Mixed epsilon of the two atoms. Given in the energy unit.\n",
    "        n (int): Repulsive exponent.\n",
    "        m (int): Attractive exponent. Defaults to 6.\n",
    "        key (str, optional): Key specifing if the energy (enery) or the force (force) should be computed. Defaults to \"energy\".\n",
    "\n",
    "    Returns:\n",
    "        mf (float): Either the energy or the force acting between the two atoms.\n",
    "    \"\"\"\n",
    "\n",
    "    if eps > 0:\n",
    "\n",
    "        # Mie constant\n",
    "        c0 = n /  ( n - m ) * ( n / m )**( m / ( n - m ) )\n",
    "\n",
    "        # energy U(r)\n",
    "        if key == \"energy\":\n",
    "            mf = c0 * eps * ( ( sigma / r ) ** n - ( sigma / r ) ** m) \n",
    "        \n",
    "        # force = -dU(r)/dr\n",
    "        if key == \"force\":\n",
    "            mf = -c0 * eps * ( m / r * ( sigma / r )**m - n / r * ( sigma/ r )**n )\n",
    "            \n",
    "    else:\n",
    "        mf = np.zeros(len(r))\n",
    "\n",
    "    return mf\n",
    "\n",
    "def calc_coulomb(r: np.ndarray | np.ndarray, q1: float, q2: float, key: str= \"energy\"):\n",
    "    \"\"\"\n",
    "    This function computes the energy / force of the Coulomb potential for given distance, and partial charges of the two atoms.\n",
    "\n",
    "    Args:\n",
    "        r (np.ndarray): Distance of the two atoms. Given in the same unit as sigma.\n",
    "        q1 (float): Partial charge of atom one. Given in portions of eletron charge.\n",
    "        q2 (float): Partial charge of atom two. Given in portions of eletron charge.\n",
    "        key (str, optional): Key specifing if the energy (enery) or the force (force) should be computed. Defaults to \"energy\".\n",
    "\n",
    "    Returns:\n",
    "        qf (float): Either the energy or the force acting between the two atoms.\n",
    "    \"\"\"\n",
    "    \n",
    "    if q1 != 0.0 and q2!= 0.0:\n",
    "        \n",
    "        konst = ( 1e10 * e**2 ) / ( 4 * np.pi * epsilon_0 * k )    \n",
    "\n",
    "        # Energy U(r) = q1q2/r\n",
    "        if key == \"energy\":\n",
    "            qf    = q1 * q2 * konst / r \n",
    "        \n",
    "        # Force = -dU(r)/dr = -d/dr (q1*q2*r^(-1)) = - (-q1*q2/r^2) = q1q2/r^2\n",
    "        if key == \"force\":\n",
    "            konst = ( 1e10 * e**2 ) / ( 4 * np.pi * epsilon_0 * k )  \n",
    "            qf = q1 * q2 * konst / r**2\n",
    "    else:\n",
    "        qf = np.zeros(len(r))\n",
    "\n",
    "    return qf\n",
    "\n",
    "def calc_bond(r: np.ndarray, r0: float, K: float, key = \"energy\"):\n",
    "    \"\"\"\n",
    "    This function computes the energy / force of the harmonic bond potential for given distance, spring constant and equilibrium length.\n",
    "\n",
    "    Args:\n",
    "        r (np.ndarray): Distance of the two atoms. Given in the same unit as sigma.\n",
    "        r0 (float): Equilibrium length of the bond.\n",
    "        K (float): Harmonic spring constant of the bond.\n",
    "        key (str, optional): Key specifing if the energy (enery) or the force (force) should be computed. Defaults to \"energy\".\n",
    "\n",
    "    Returns:\n",
    "        bf (float): Either the energy or the force acting between the two atoms. \n",
    "    \"\"\"\n",
    "    # Energy U(r) = K * (r-r0)^2\n",
    "    if key == \"energy\":\n",
    "        bf = K * ( r - r0 )**2\n",
    "    \n",
    "    # Force -dU(r)/dr = -K * 2 * (r-r0)\n",
    "    if key == \"Force\":\n",
    "        bf = -K * 2 * ( r - r0 )\n",
    "        \n",
    "    return bf"
   ]
  },
  {
   "cell_type": "code",
   "execution_count": 4,
   "id": "cf7d21ed",
   "metadata": {},
   "outputs": [],
   "source": [
    "# Read force-field\n",
    "\n",
    "pair_pots    = read_pair_potentials(glob.glob(path+\"/pair_potentials\")[0])\n",
    "bond_pots    = read_bond_potentials(glob.glob(path+\"/bond_potentials\")[0])\n",
    "angle_pots   = read_angle_potentials(glob.glob(path+\"/angle_potentials\")[0])\n",
    "torsion_pots = read_torsion_potentials(glob.glob(path+\"/torsion_potentials\")[0])"
   ]
  },
  {
   "cell_type": "code",
   "execution_count": 5,
   "id": "9c04a588",
   "metadata": {},
   "outputs": [
    {
     "name": "stdout",
     "output_type": "stream",
     "text": [
      "Dipol list:\n",
      "\n",
      "[('cH_alcohol', 0), ('OH_alcohol', 1), ('CH2_alcohol', 2)]\n",
      "[('CH2_alcohol', 3), ('OH_alcohol', 4), ('cH_alcohol', 5)]\n"
     ]
    }
   ],
   "source": [
    "flag = 0\n",
    "dipol_list = []\n",
    "\n",
    "for i,(atom,no) in enumerate(zip(molecule.atom_names,molecule.atom_numbers)):\n",
    "    \n",
    "    if (pair_pots[atom][\"charge\"] != 0 and flag == 0):\n",
    "        \n",
    "        dipol = []\n",
    "        chrg = 0\n",
    "        chrg += pair_pots[atom][\"charge\"]\n",
    "        flag = 1\n",
    "        dipol.append((atom,no))\n",
    "        \n",
    "    elif(pair_pots[atom][\"charge\"] != 0 and flag == 1):\n",
    "        \n",
    "        #Check if next atom is bonded to the previous one\n",
    "        \n",
    "        atom_no1 = molecule.atom_numbers[i]\n",
    "        atom_no2 = molecule.atom_numbers[i-1]\n",
    "        distance = molecule.get_distance(atom_no1,atom_no2)\n",
    "\n",
    "        if distance == 1.0:\n",
    "            chrg += pair_pots[atom][\"charge\"]\n",
    "            dipol.append((atom,no))\n",
    "            \n",
    "        #Check if the total charge is 0, then its a local dipol\n",
    "        \n",
    "            if np.round(chrg,3) == 0:\n",
    "                dipol_list.append(dipol)\n",
    "                flag = 0\n",
    "\n",
    "                \n",
    "print(\"Dipol list:\\n\")\n",
    "for dipol in dipol_list:\n",
    "    print(dipol)"
   ]
  },
  {
   "cell_type": "code",
   "execution_count": 6,
   "id": "ab4f3789",
   "metadata": {},
   "outputs": [
    {
     "name": "stdout",
     "output_type": "stream",
     "text": [
      "cH_alcohol OH_alcohol 1.0\n",
      "cH_alcohol CH2_alcohol 2.0\n",
      "cH_alcohol CH2_alcohol 3.0\n",
      "cH_alcohol OH_alcohol 4.0\n",
      "check\n",
      "cH_alcohol cH_alcohol 5.0\n",
      "check\n",
      "OH_alcohol CH2_alcohol 1.0\n",
      "OH_alcohol CH2_alcohol 2.0\n",
      "OH_alcohol OH_alcohol 3.0\n",
      "OH_alcohol cH_alcohol 4.0\n",
      "check\n",
      "CH2_alcohol CH2_alcohol 1.0\n",
      "CH2_alcohol OH_alcohol 2.0\n",
      "CH2_alcohol cH_alcohol 3.0\n",
      "CH2_alcohol OH_alcohol 1.0\n",
      "CH2_alcohol cH_alcohol 2.0\n",
      "OH_alcohol cH_alcohol 1.0\n",
      "\n",
      "Special Mie interaction\n",
      "\n",
      "cH_alcohol OH_alcohol\n",
      "cH_alcohol cH_alcohol\n",
      "OH_alcohol OH_alcohol\n",
      "OH_alcohol cH_alcohol\n",
      "\n",
      "Special Coulomb interaction\n",
      "\n",
      "cH_alcohol CH2_alcohol\n",
      "cH_alcohol OH_alcohol\n",
      "cH_alcohol cH_alcohol\n",
      "OH_alcohol CH2_alcohol\n",
      "OH_alcohol OH_alcohol\n",
      "OH_alcohol cH_alcohol\n",
      "CH2_alcohol CH2_alcohol\n",
      "CH2_alcohol OH_alcohol\n",
      "CH2_alcohol cH_alcohol\n",
      "\n",
      "Table dict\n",
      "['[special][OH_alcohol][cH_alcohol]' '[special][cH_alcohol][cH_alcohol]'\n",
      " '[special][OH_alcohol][OH_alcohol]' '[special][CH2_alcohol][cH_alcohol]'\n",
      " '[special][CH2_alcohol][OH_alcohol]'\n",
      " '[special][CH2_alcohol][CH2_alcohol]']\n",
      "\n",
      "Bonded dict\n",
      "['[OH_alcohol][cH_alcohol]' '[CH2_alcohol][OH_alcohol]'\n",
      " '[CH2_alcohol][CH2_alcohol]']\n",
      "\n",
      "Total special interaction\n",
      "\n",
      "cH_alcohol OH_alcohol\n",
      "cH_alcohol cH_alcohol\n",
      "OH_alcohol OH_alcohol\n",
      "cH_alcohol CH2_alcohol\n",
      "OH_alcohol CH2_alcohol\n",
      "CH2_alcohol CH2_alcohol\n"
     ]
    }
   ],
   "source": [
    "# Bestimmte auszuwertetende WW\n",
    "\n",
    "mie           = []\n",
    "coul          = []\n",
    "special_names = []\n",
    "\n",
    "#Durch zusätzlichen Bonds verkürzen sich die Bindungsabstände der dahinterliegenden WW\n",
    "#Bsp durch die O-O \"Bond\" sind die cH_alcohole effektiv nur noch 3 Bindungen entfernt und werden nicht\n",
    "#in LAMMPS ausgewertet, darum schreibe in Table\n",
    "\n",
    "# Mie für alle WW (auch längere Abstände)\n",
    "\n",
    "for x,a in enumerate(molecule.atom_numbers):\n",
    "    for y,b in enumerate(molecule.atom_numbers[x+1:]):\n",
    "        print(molecule.atom_names[a],molecule.atom_names[b],molecule.get_distance(a,b))\n",
    "        if molecule.get_distance(a,b) > 3:\n",
    "            print(\"check\")\n",
    "            mie.append([a,b])\n",
    "        elif [a,b] in reftor_list:\n",
    "            mie.append([a,b])\n",
    "\n",
    "# Coul für alle WW innerhalb der Charge Groups\n",
    "\n",
    "for i,a in enumerate(dipol_list):\n",
    "    for j,b in enumerate(dipol_list[i:]):\n",
    "        if b !=a:\n",
    "            for aa in a:\n",
    "                for bb in b:\n",
    "                    coul.append([aa[1],bb[1]])\n",
    "\n",
    "# Berücksichtige als erstes alle Mie WW, addiere dann alle zusätzlichen Coulomb WW dazu.\n",
    "# Dies ist besonders für längere Moleküle wichtig (z.B Butandiol)\n",
    "\n",
    "total_pair = mie.copy()\n",
    "\n",
    "print(\"\")\n",
    "print(\"Special Mie interaction\\n\")\n",
    "for a in mie:\n",
    "    print(molecule.atom_names[a[0]],molecule.atom_names[a[1]])\n",
    "    special_names.append([molecule.atom_names[a[0]],molecule.atom_names[a[1]]])\n",
    "print(\"\")\n",
    "print(\"Special Coulomb interaction\\n\")\n",
    "for a in coul:\n",
    "    print(molecule.atom_names[a[0]],molecule.atom_names[a[1]])\n",
    "    if not [molecule.atom_names[a[0]],molecule.atom_names[a[1]]] in special_names:\n",
    "        special_names.append([molecule.atom_names[a[0]],molecule.atom_names[a[1]]])\n",
    "        total_pair.append(a)\n",
    "\n",
    "helper = []\n",
    "for i,a in enumerate(special_names):\n",
    "    for j,b in enumerate(special_names):\n",
    "        b.reverse()\n",
    "        if (a == b and i !=j):\n",
    "            special_names[i] = b\n",
    "            helper.append(i)\n",
    "\n",
    "#Get the right dictkey for bonded WW            \n",
    "special_key   = []\n",
    "for i in special_names:\n",
    "    if \"[\"+\"][\".join(i)+\"]\" in list(molecule.bond_keys):\n",
    "        special_key.append(\"[\"+\"][\".join(i)+\"]\")\n",
    "    elif \"[\"+\"][\".join(i[::-1])+\"]\"in list(molecule.bond_keys):\n",
    "        special_key.append(\"[\"+\"][\".join(i[::-1])+\"]\")\n",
    "        \n",
    "#Just unique bond names WW\n",
    "test,idx = np.unique(special_key,axis=0,return_index=True)\n",
    "special_key = test[idx.argsort()]\n",
    "\n",
    "#Just unique pair names and coul WW\n",
    "#special_names = [\"\".join([w[0].split(\"_\")[0],w[1].split(\"_\")[0]]) for w in special_names]\n",
    "#special_names = [\"\".join([w[0],w[1]]) for w in special_names]\n",
    "special_names =  special_bond_keys = [ \"[special]\"+moleculegraph.make_graph(moleculegraph.sort_force_fields(x)) for x in special_names ]\n",
    "total_pair = np.delete(np.array(total_pair),helper,axis=0).tolist()\n",
    "\n",
    "#unique sort the array; undo the sort\n",
    "test,idx = np.unique(special_names,axis=0,return_index=True)\n",
    "special_names = test[idx.argsort()]\n",
    "\n",
    "print(\"\")\n",
    "print(\"Table dict\")\n",
    "print(special_names)\n",
    "\n",
    "print(\"\")\n",
    "print(\"Bonded dict\")\n",
    "print(special_key)\n",
    "\n",
    "print(\"\")\n",
    "print(\"Total special interaction\\n\")\n",
    "for a in total_pair:\n",
    "    print(molecule.atom_names[a[0]],molecule.atom_names[a[1]])"
   ]
  },
  {
   "cell_type": "code",
   "execution_count": 7,
   "id": "65824167",
   "metadata": {},
   "outputs": [
    {
     "ename": "IndexError",
     "evalue": "index 6 is out of bounds for axis 0 with size 6",
     "output_type": "error",
     "traceback": [
      "\u001b[0;31m---------------------------------------------------------------------------\u001b[0m",
      "\u001b[0;31mIndexError\u001b[0m                                Traceback (most recent call last)",
      "\u001b[1;32m/home/st/st_st/st_st163811/workspace/TAMie-force-field/build_bond_table.ipynb Cell 7\u001b[0m line \u001b[0;36m4\n\u001b[1;32m     <a href='vscode-notebook-cell://ssh-remote%2Blogin01.binac.uni-tuebingen.de/home/st/st_st/st_st163811/workspace/TAMie-force-field/build_bond_table.ipynb#W6sdnNjb2RlLXJlbW90ZQ%3D%3D?line=34'>35</a>\u001b[0m r5   \u001b[39m=\u001b[39m np\u001b[39m.\u001b[39mlinspace(\u001b[39m0.98\u001b[39m\u001b[39m*\u001b[39mleg_min,\u001b[39m1.2\u001b[39m\u001b[39m*\u001b[39mleg_max,N)\n\u001b[1;32m     <a href='vscode-notebook-cell://ssh-remote%2Blogin01.binac.uni-tuebingen.de/home/st/st_st/st_st163811/workspace/TAMie-force-field/build_bond_table.ipynb#W6sdnNjb2RlLXJlbW90ZQ%3D%3D?line=36'>37</a>\u001b[0m \u001b[39mfor\u001b[39;00m q,w \u001b[39min\u001b[39;00m \u001b[39menumerate\u001b[39m(coul):\n\u001b[1;32m     <a href='vscode-notebook-cell://ssh-remote%2Blogin01.binac.uni-tuebingen.de/home/st/st_st/st_st163811/workspace/TAMie-force-field/build_bond_table.ipynb#W6sdnNjb2RlLXJlbW90ZQ%3D%3D?line=37'>38</a>\u001b[0m     \u001b[39m#Calculate Mie / Coul / Bond Potential and Force (unit = Kelvin)\u001b[39;00m\n\u001b[0;32m---> <a href='vscode-notebook-cell://ssh-remote%2Blogin01.binac.uni-tuebingen.de/home/st/st_st/st_st163811/workspace/TAMie-force-field/build_bond_table.ipynb#W6sdnNjb2RlLXJlbW90ZQ%3D%3D?line=39'>40</a>\u001b[0m     dict_key \u001b[39m=\u001b[39m special_names[q]\n\u001b[1;32m     <a href='vscode-notebook-cell://ssh-remote%2Blogin01.binac.uni-tuebingen.de/home/st/st_st/st_st163811/workspace/TAMie-force-field/build_bond_table.ipynb#W6sdnNjb2RlLXJlbW90ZQ%3D%3D?line=41'>42</a>\u001b[0m     pot_bond   \u001b[39m=\u001b[39m \u001b[39m0\u001b[39m\n\u001b[1;32m     <a href='vscode-notebook-cell://ssh-remote%2Blogin01.binac.uni-tuebingen.de/home/st/st_st/st_st163811/workspace/TAMie-force-field/build_bond_table.ipynb#W6sdnNjb2RlLXJlbW90ZQ%3D%3D?line=42'>43</a>\u001b[0m     pot_mie    \u001b[39m=\u001b[39m \u001b[39m0\u001b[39m\n",
      "\u001b[0;31mIndexError\u001b[0m: index 6 is out of bounds for axis 0 with size 6"
     ]
    }
   ],
   "source": [
    "#Auswerten der Potentiale und Kräfte\n",
    "\n",
    "KB_kcal = 1/ (CALORIE*KILO /MOL / NAV /KB /KELVIN) #Umrechnen von Kelvin in K_cal/mol (Kelvin * R == Joule/mol / 4.184 = cal/mol /1000 = kcal/mol)\n",
    "\n",
    "energy_list = []\n",
    "plot_dict   = {}\n",
    "\n",
    "#N auswertungen (numerische Auswertung der Kräfte ist schwer, darum viele Stützstellen in Bereichen großer Gradienten)\n",
    "N1 = 80000\n",
    "N2 = 20000\n",
    "N  = N1+N2\n",
    "\n",
    "#Cutoff in Angström\n",
    "cutoff = 14 \n",
    "\n",
    "#Bestimme für Mie WW das entscheidende Sigma. Vor sigma viele Stützstellen danach wenige\n",
    "\n",
    "sig = min([(pair_pots[molecule.atom_names[a[0]]][\"sigma\"] + pair_pots[molecule.atom_names[a[1]]][\"sigma\"])*0.5 for a in mie])\n",
    "\n",
    "r1  = np.linspace(0.8*sig,1.1*sig,N1)\n",
    "r2  = np.linspace(1.11*sig,cutoff,N2)\n",
    "\n",
    "#Bestimme für restlichen Coul WW das entscheidende Sigma. Vor sigma viele Stützstellen danach wenige\n",
    "\n",
    "sig = min([(pair_pots[molecule.atom_names[a[0]]][\"sigma\"] + pair_pots[molecule.atom_names[a[1]]][\"sigma\"])*0.5 for a in coul])\n",
    "\n",
    "r3  = np.linspace(0.8*sig,1.1*sig,N1)\n",
    "r4  = np.linspace(1.11*sig,cutoff,N2)\n",
    "\n",
    "#Für Bonded Atoms benutzte kürzere range (bond_length wird eigentlich zu TAMie wert gezwungen)\n",
    "\n",
    "leg_min  = min([[bond_pots[i][\"p\"][0] for i in special_key] if len(special_key) > 0 else 10][0])\n",
    "leg_max  = max([[bond_pots[i][\"p\"][0] for i in special_key] if len(special_key) > 0 else 10][0])\n",
    "\n",
    "r5   = np.linspace(0.98*leg_min,1.2*leg_max,N)\n",
    "\n",
    "for q,w in enumerate(coul):\n",
    "    #Calculate Mie / Coul / Bond Potential and Force (unit = Kelvin)\n",
    "    \n",
    "    dict_key = special_names[q]\n",
    "    \n",
    "    pot_bond   = 0\n",
    "    pot_mie    = 0\n",
    "    force_bond = 0\n",
    "    force_mie  = 0\n",
    "    \n",
    "    if molecule.get_distance(w[0],w[1]) == 1:\n",
    "        #Nutze bei Bindung andere Range\n",
    "        r    = r5\n",
    "        if \"[\"+\"][\".join([molecule.atom_names[w[0]],molecule.atom_names[w[1]]])+\"]\" in special_key:\n",
    "            name = \"[\"+\"][\".join([molecule.atom_names[w[0]],molecule.atom_names[w[1]]])+\"]\"\n",
    "        elif \"[\"+\"][\".join([molecule.atom_names[w[1]],molecule.atom_names[w[0]]])+\"]\" in special_key:\n",
    "            name = \"[\"+\"][\".join([molecule.atom_names[w[1]],molecule.atom_names[w[0]]])+\"]\"\n",
    "        else:\n",
    "            print(\"No Bondkey\")\n",
    "            \n",
    "        pot_bond   = calc_bond(r,bond_pots[name])\n",
    "        force_bond = calc_bond(r,bond_pots[name],\"Force\")\n",
    "        \n",
    "    elif w in mie:\n",
    "        r   = np.concatenate((r1,r2))\n",
    "        pot_mie    = calc_mie(r,pair_pots[molecule.atom_names[w[0]]],pair_pots[molecule.atom_names[w[1]]])\n",
    "        force_mie  = calc_mie(r,pair_pots[molecule.atom_names[w[0]]],pair_pots[molecule.atom_names[w[1]]],\"Force\")\n",
    "    \n",
    "    else:\n",
    "        r   = np.concatenate((r3,r4))\n",
    "    \n",
    "    pot_coul   = calc_coul(r,pair_pots[molecule.atom_names[w[0]]],pair_pots[molecule.atom_names[w[1]]])\n",
    "    force_coul = calc_coul(r,pair_pots[molecule.atom_names[w[0]]],pair_pots[molecule.atom_names[w[1]]],\"Force\")\n",
    "\n",
    "    #Umrechnen der Energien / Kräfte von Kelvin bzw Kelvin/Angström in Kcal/mol bzw Kcal/mol*Angström\n",
    "    #Spezialfall ist Bonded Energie / Force, diese ist bereich ist Kcal/mol bzw Kcal/mol*Angström berechnet\n",
    "    pot_ges   = (pot_mie + pot_coul)*KB_kcal + pot_bond\n",
    "    force_ges = (force_mie + force_coul)*KB_kcal + force_bond\n",
    "    \n",
    "    #Write it in Dict (for template and plot)\n",
    "    plot_dict[dict_key]             = {}\n",
    "    plot_dict[dict_key][\"r\"]        = r\n",
    "    plot_dict[dict_key][\"pot_ges\"]  = pot_ges\n",
    "    plot_dict[dict_key][\"pot_coul\"] = pot_coul *KB_kcal\n",
    "    plot_dict[dict_key][\"pot_mie\"]  = pot_mie  *KB_kcal\n",
    "    plot_dict[dict_key][\"pot_bond\"] = pot_bond\n",
    "\n",
    "    energy_dict = {}\n",
    "    helper      = []\n",
    "    \n",
    "    for i,(dist,pot,f) in enumerate(zip(r,pot_ges,force_ges)):\n",
    "        helper.append([i+1,dist,pot,f])                             #np.round(..,16)\n",
    "    energy_dict[\"p\"]    = helper\n",
    "    energy_dict[\"list\"] = dict_key\n",
    "    energy_dict[\"N\"]    = N \n",
    "   \n",
    "    energy_list.append(energy_dict)"
   ]
  },
  {
   "cell_type": "code",
   "execution_count": 12,
   "id": "bf2cd2e0",
   "metadata": {},
   "outputs": [
    {
     "name": "stdout",
     "output_type": "stream",
     "text": [
      "0.8\n",
      "14.0\n"
     ]
    },
    {
     "data": {
      "image/png": "[encoded data removed]",
      "text/plain": [
       "<Figure size 432x288 with 1 Axes>"
      ]
     },
     "metadata": {
      "needs_background": "light"
     },
     "output_type": "display_data"
    },
    {
     "name": "stdout",
     "output_type": "stream",
     "text": [
      "0.8\n",
      "14.0\n"
     ]
    },
    {
     "data": {
      "image/png": "[encoded data removed]",
      "text/plain": [
       "<Figure size 432x288 with 1 Axes>"
      ]
     },
     "metadata": {
      "needs_background": "light"
     },
     "output_type": "display_data"
    },
    {
     "name": "stdout",
     "output_type": "stream",
     "text": [
      "0.8\n",
      "14.0\n"
     ]
    },
    {
     "data": {
      "image/png": "[encoded data removed]",
      "text/plain": [
       "<Figure size 432x288 with 1 Axes>"
      ]
     },
     "metadata": {
      "needs_background": "light"
     },
     "output_type": "display_data"
    },
    {
     "name": "stdout",
     "output_type": "stream",
     "text": [
      "0.8\n",
      "14.0\n"
     ]
    },
    {
     "data": {
      "image/png": "[encoded data removed]",
      "text/plain": [
       "<Figure size 432x288 with 1 Axes>"
      ]
     },
     "metadata": {
      "needs_background": "light"
     },
     "output_type": "display_data"
    },
    {
     "name": "stdout",
     "output_type": "stream",
     "text": [
      "0.8\n",
      "14.0\n"
     ]
    },
    {
     "data": {
      "image/png": "[encoded data removed]",
      "text/plain": [
       "<Figure size 432x288 with 1 Axes>"
      ]
     },
     "metadata": {
      "needs_background": "light"
     },
     "output_type": "display_data"
    },
    {
     "name": "stdout",
     "output_type": "stream",
     "text": [
      "0.8\n",
      "14.0\n"
     ]
    },
    {
     "data": {
      "image/png": "[encoded data removed]",
      "text/plain": [
       "<Figure size 432x288 with 1 Axes>"
      ]
     },
     "metadata": {
      "needs_background": "light"
     },
     "output_type": "display_data"
    }
   ],
   "source": [
    "#Plot Energies\n",
    "\n",
    "for key in plot_dict:\n",
    "    r     = plot_dict[key][\"r\"]\n",
    "    print(min(r))\n",
    "    print(max(r))\n",
    "    pot_g = plot_dict[key][\"pot_ges\"]\n",
    "    pot_m = plot_dict[key][\"pot_mie\"]\n",
    "    pot_c = plot_dict[key][\"pot_coul\"]\n",
    "    pot_b = plot_dict[key][\"pot_bond\"]\n",
    "    \n",
    "    plt.plot(r,pot_g,label = \"$u_{Ges}$\")\n",
    "    plt.plot(r,pot_c,label = \"$u_{Coul}$\")\n",
    "    try:\n",
    "        plt.plot(r,pot_m,label = \"$u_{Mie}$\")\n",
    "    except:\n",
    "        pass\n",
    "    try:\n",
    "        plt.plot(r,pot_b,label = \"$u_{Bond}$\") \n",
    "    except:\n",
    "        pass\n",
    "    \n",
    "    plt.title(key)\n",
    "    plt.legend()\n",
    "    plt.xlabel(\"Distance r / Å\")\n",
    "    plt.ylabel(\"Energie / Kcal mol$^{-1}$\")\n",
    "    plt.show()\n",
    "    plt.close()\n",
    "    "
   ]
  },
  {
   "cell_type": "code",
   "execution_count": 13,
   "id": "26666abc",
   "metadata": {},
   "outputs": [],
   "source": [
    "with open(\"templates/template.bond_table\") as file_:\n",
    "    template = Template(file_.read())\n",
    "rendered = template.render( rd=energy_list ) #Textformat wie in template\n",
    "#print(rendered)\n",
    "\n",
    "os.makedirs( \"diols/\" + species,exist_ok=True )\n",
    "dummy = \"diols/\" + species + \"/\" + species + \".table\"\n",
    "\n",
    "with open(dummy, \"w\") as fh:\n",
    "    fh.write(rendered) "
   ]
  },
  {
   "cell_type": "code",
   "execution_count": null,
   "id": "98b7ce9a",
   "metadata": {},
   "outputs": [],
   "source": []
  },
  {
   "cell_type": "code",
   "execution_count": null,
   "id": "248668dc",
   "metadata": {},
   "outputs": [],
   "source": []
  }
 ],
 "metadata": {
  "kernelspec": {
   "display_name": "Python 3 (ipykernel)",
   "language": "python",
   "name": "python3"
  },
  "language_info": {
   "codemirror_mode": {
    "name": "ipython",
    "version": 3
   },
   "file_extension": ".py",
   "mimetype": "text/x-python",
   "name": "python",
   "nbconvert_exporter": "python",
   "pygments_lexer": "ipython3",
   "version": "3.10.11"
  }
 },
 "nbformat": 4,
 "nbformat_minor": 5
}
