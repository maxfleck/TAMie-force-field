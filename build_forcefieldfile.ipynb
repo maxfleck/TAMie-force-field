{
 "cells": [
  {
   "cell_type": "code",
   "execution_count": 17,
   "metadata": {},
   "outputs": [],
   "source": [
    "import moleculegraph\n",
    "import numpy as np\n",
    "import toml\n",
    "import glob\n",
    "import toml\n",
    "from moleculegraph.funcs import read_pair_potentials, read_bond_potentials, read_angle_potentials, read_torsion_potentials\n"
   ]
  },
  {
   "cell_type": "code",
   "execution_count": 18,
   "metadata": {},
   "outputs": [],
   "source": [
    "path = \"../force-fields/UA_TAMie/\"\n",
    "\n",
    "\n",
    "output_file_name = \"../force-fields/forcefield_full_xx.toml\"\n",
    "\n",
    "#path = \"/home/derwer/Desktop/PHD/FF-Optimierer-3/qmfit_5/full_test_1_2/force-fields/UA_devel\"\n",
    "#output_file_name = \"forcefield_xx_qm5_ft_12.toml\"\n",
    "\n",
    "#path = \"/home/derwer/Desktop/PHD/FF-Optimierer-3/amine_fit_26/btn11/force-fields/UA_devel\"\n",
    "#output_file_name = \"forcefield_xx_af26_btn_11.toml\""
   ]
  },
  {
   "cell_type": "code",
   "execution_count": 19,
   "metadata": {},
   "outputs": [],
   "source": [
    "\n",
    "pair_pots    = read_pair_potentials(glob.glob(path+\"/pair_potentials\")[0])\n",
    "bond_pots    = read_bond_potentials(glob.glob(path+\"/bond_potentials\")[0])\n",
    "angle_pots   = read_angle_potentials(glob.glob(path+\"/angle_potentials\")[0])\n",
    "torsion_pots = read_torsion_potentials(glob.glob(path+\"/torsion_potentials\")[0])\n",
    "  \n",
    "# --> build toml files from those... ;)\n",
    "\n",
    "forcefield = {}\n",
    "forcefield[\"atoms\"]    = pair_pots\n",
    "forcefield[\"bonds\"]    = bond_pots\n",
    "forcefield[\"angles\"]   = angle_pots\n",
    "forcefield[\"torsions\"] = torsion_pots\n",
    "\n",
    "with open(output_file_name.replace(\"xx\",\"mc\"), \"w\") as toml_file:\n",
    "    toml.dump(forcefield, toml_file)"
   ]
  },
  {
   "cell_type": "code",
   "execution_count": 20,
   "metadata": {},
   "outputs": [],
   "source": [
    "\n",
    "pair_pots    = read_pair_potentials(glob.glob(path+\"/pair_potentials\")[0])\n",
    "bond_pots    = read_bond_potentials(glob.glob(path+\"/bond_potentials\")[0])\n",
    "angle_pots   = read_angle_potentials(glob.glob(path+\"/angle_potentials\")[0])\n",
    "torsion_pots = read_torsion_potentials(glob.glob(path+\"/torsion_potentials\")[0])\n",
    "\n",
    "for p in pair_pots:\n",
    "    #print(p)\n",
    "    pair_pots[p][\"style\"] = \"Mie\"\n",
    "for p in bond_pots:\n",
    "    #print(p)\n",
    "    bond_pots[p][\"style\"]          = \"fixed\"\n",
    "    #print(bond_pots[p])\n",
    "for p in angle_pots:\n",
    "    #print(p)\n",
    "    angle_pots[p][\"style\"]          = \"harmonic\"\n",
    "    angle_pots[p][\"p\"][0]           /= 2\n",
    "for p in torsion_pots:\n",
    "    #print(p)\n",
    "    torsion_pots[p][\"style\"]          = \"opls\"\n",
    "    \n",
    "# --> build toml files from those... ;)\n",
    "\n",
    "forcefield = {}\n",
    "forcefield[\"atoms\"]    = pair_pots\n",
    "forcefield[\"bonds\"]    = bond_pots\n",
    "forcefield[\"angles\"]   = angle_pots\n",
    "forcefield[\"torsions\"] = torsion_pots\n",
    "\n",
    "\n",
    "import toml\n",
    "with open(output_file_name.replace(\"xx\",\"cassandra\"), \"w\") as toml_file:\n",
    "    toml.dump(forcefield, toml_file)"
   ]
  },
  {
   "cell_type": "code",
   "execution_count": 2,
   "metadata": {},
   "outputs": [
    {
     "data": {
      "text/plain": [
       "45.66341300191205"
      ]
     },
     "execution_count": 2,
     "metadata": {},
     "output_type": "execute_result"
    }
   ],
   "source": [
    "45960.0 * 8.314 / 4184 /2"
   ]
  },
  {
   "cell_type": "code",
   "execution_count": 21,
   "metadata": {},
   "outputs": [],
   "source": [
    "import glob\n",
    "from moleculegraph.funcs import read_pair_potentials, read_bond_potentials, read_angle_potentials, read_torsion_potentials\n",
    "from feos.si import *\n",
    "\n",
    "KB_kcal = 1/ (CALORIE*KILO /MOL / NAV /KB /KELVIN)\n",
    "\n",
    "pair_pots    = read_pair_potentials(glob.glob(path+\"/pair_potentials\")[0])\n",
    "bond_pots    = read_bond_potentials(glob.glob(path+\"/bond_potentials\")[0])\n",
    "angle_pots   = read_angle_potentials(glob.glob(path+\"/angle_potentials\")[0])\n",
    "torsion_pots = read_torsion_potentials(glob.glob(path+\"/torsion_potentials\")[0])\n",
    "\n",
    "KB_kcal = 0.001985875\n",
    "for p in pair_pots:\n",
    "    #print(p)\n",
    "    pair_pots[p][\"style\"]   = \"hybrid Mie/cut coul/long\"                \n",
    "    pair_pots[p][\"epsilon\"] = round(pair_pots[p][\"epsilon\"]*KB_kcal,4)\n",
    "for p in bond_pots:\n",
    "    #print(p)\n",
    "    bond_pots[p][\"style\"]        = \"harmonic\"\n",
    "    bond_pots[p][\"p\"][1]         = 1000.\n",
    "    #print(bond_pots[p])\n",
    "for p in angle_pots:\n",
    "    #print(p)\n",
    "    angle_pots[p][\"style\"]       = \"harmonic\"\n",
    "    angle_pots[p][\"p\"][1]        = round(angle_pots[p][\"p\"][1]*KB_kcal/2,4)\n",
    "for p in torsion_pots:\n",
    "    #print(p)\n",
    "    if torsion_pots[p][\"type\"] == 1:\n",
    "        torsion_pots[p][\"style\"]     = \"opls\"\n",
    "        torsion_pots[p][\"p\"]         = [ round(x*KB_kcal*2,4) for x in torsion_pots[p][\"p\"] ]\n",
    "    elif torsion_pots[p][\"type\"] == 6:\n",
    "        torsion_pots[p][\"style\"]     = \"nharmonic\"\n",
    "        torsion_pots[p][\"p\"]         = [ round(x*KB_kcal,4) for x in torsion_pots[p][\"p\"] ]\n",
    "    \n",
    "# --> build toml files from those... ;)\n",
    "\n",
    "forcefield = {}\n",
    "forcefield[\"atoms\"]    = pair_pots\n",
    "forcefield[\"bonds\"]    = bond_pots\n",
    "forcefield[\"angles\"]   = angle_pots\n",
    "forcefield[\"torsions\"] = torsion_pots\n",
    "\n",
    "import toml\n",
    "\n",
    "with open(output_file_name.replace(\"xx\",\"lammps\"), \"w\") as toml_file:\n",
    "    toml.dump(forcefield, toml_file)"
   ]
  },
  {
   "cell_type": "code",
   "execution_count": null,
   "metadata": {},
   "outputs": [],
   "source": []
  }
 ],
 "metadata": {
  "kernelspec": {
   "display_name": "Python 3 (ipykernel)",
   "language": "python",
   "name": "python3"
  },
  "language_info": {
   "codemirror_mode": {
    "name": "ipython",
    "version": 3
   },
   "file_extension": ".py",
   "mimetype": "text/x-python",
   "name": "python",
   "nbconvert_exporter": "python",
   "pygments_lexer": "ipython3",
   "version": "3.10.11"
  }
 },
 "nbformat": 4,
 "nbformat_minor": 4
}
