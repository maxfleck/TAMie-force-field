{
 "cells": [
  {
   "cell_type": "code",
   "execution_count": 1,
   "metadata": {},
   "outputs": [],
   "source": [
    "import toml\n",
    "import json\n",
    "from scipy.constants import R\n",
    "from moleculegraph.general_utils import read_pair_potentials, read_bond_potentials, read_angle_potentials, read_torsion_potentials"
   ]
  },
  {
   "cell_type": "markdown",
   "metadata": {},
   "source": [
    "# Write force field toml files #\n",
    "\n",
    "This notebook is used to translate the TAMie force field files into a moleculegraph compatible toml file. The units are also converted to LAMMPS standard units (kcal/mol)."
   ]
  },
  {
   "cell_type": "markdown",
   "metadata": {},
   "source": [
    "### Note:\n",
    "In TOML one cannot mix integers and floats in one list! The nharmonic style needs as first parameter the length of the expansion, hence an integer.\n",
    "Therefore, it is better to save the force field for alcohols as json file. pyLAMMPS can read both json or toml."
   ]
  },
  {
   "cell_type": "code",
   "execution_count": 5,
   "metadata": {},
   "outputs": [],
   "source": [
    "# Define the TAMie force field folder\n",
    "path_to_tamie    = \"force-fields/UA_TAMie_alcohols/\"\n",
    "\n",
    "# Define the output toml file\n",
    "output_file_name = \"force-fields/ff_UA_TAMie_alcohols.toml\"\n",
    "\n",
    "# Read in the force field files using moleculegraph\n",
    "\n",
    "pair_pots    = read_pair_potentials( path_to_tamie + \"pair_potentials\" )\n",
    "bond_pots    = read_bond_potentials( path_to_tamie + \"bond_potentials\" )  \n",
    "angle_pots   = read_angle_potentials( path_to_tamie + \"angle_potentials\" )\n",
    "torsion_pots = read_torsion_potentials( path_to_tamie + \"torsion_potentials\" )\n",
    "\n",
    "# Converstion factor from unit Kelvin to kcal/mol (K * J/(K*mol) * kcal/J)\n",
    "KB_kcal = R / 4184\n",
    "\n",
    "# Define pair interactions (sigma in Angstrom, epsilon in kcal/mol)\n",
    "for p in pair_pots:\n",
    "    pair_pots[p][\"vdw_style\"] = \"mie/cut\"\n",
    "    pair_pots[p][\"coulomb_style\"] = \"\" if pair_pots[p][\"charge\"] == 0.0 else \"coul/long\" \n",
    "    pair_pots[p][\"epsilon\"] = round( pair_pots[p][\"epsilon\"] * KB_kcal, 4 )\n",
    "    pair_pots[p][\"n\"] = pair_pots[p][\"m\"]\n",
    "    pair_pots[p][\"m\"] = 6\n",
    "\n",
    "# Define bonded interactions (Spring constant in kcal/mol / Angstrom^2. As TAMie utilize fixed bond, use empirical value: https://doi.org/10.1021/acs.jced.9b01031 )\n",
    "for p in bond_pots:\n",
    "    bond_pots[p][\"style\"] = \"harmonic\"\n",
    "    bond_pots[p][\"p\"] = [ 200.0, bond_pots[p][\"p\"][0] ]\n",
    "\n",
    "# Define angle interactions (Spring constant in kcal/mol / rad^2) --> introduce the factor 1/2 in the constant (see LAMMPS documentary)\n",
    "for p in angle_pots:\n",
    "    angle_pots[p][\"style\"] = \"harmonic\"\n",
    "    angle_pots[p][\"p\"] = [ round(angle_pots[p][\"p\"][1] * KB_kcal/2, 4 ), angle_pots[p][\"p\"][0] ]\n",
    "\n",
    "# Define dihedral interactions (Spring constant in kcal/mol)\n",
    "# Leave out last value from the torsion potdentials, as its always 0.0.\n",
    "for p in torsion_pots:\n",
    "    if torsion_pots[p][\"type\"] == 1:\n",
    "        torsion_pots[p][\"style\"]     = \"opls\"\n",
    "        # LAMMPS opls uses 1/2*K, but TAMie uses K, hence multiply with two.\n",
    "        # TAMie utilizes a C0 constant and end at C3 while LAMMPS starts with C1 and ends with C4, hence leave out first entry and add an 0.0 for C4\n",
    "        torsion_pots[p][\"p\"]         = [ round( x * KB_kcal * 2, 4 ) for x in torsion_pots[p][\"p\"][1:-1] ] + [ 0.0 ]\n",
    "\n",
    "    elif torsion_pots[p][\"type\"] == 6:\n",
    "        torsion_pots[p][\"style\"]     = \"nharmonic\"\n",
    "        # No prefactor is used. Add number of parameters of the nharmonic \n",
    "        torsion_pots[p][\"p\"]         = [ len(torsion_pots[p][\"p\"][:-1]) ] + [ round( x * KB_kcal, 4 ) for x in torsion_pots[p][\"p\"][:-1] ]\n",
    "    \n",
    "\n",
    "# Write toml file\n",
    "forcefield = {}\n",
    "forcefield[\"atoms\"]    = pair_pots\n",
    "forcefield[\"bonds\"]    = bond_pots\n",
    "forcefield[\"angles\"]   = angle_pots\n",
    "forcefield[\"torsions\"] = torsion_pots\n",
    "\n",
    "\n",
    "\n",
    "\n",
    "\n",
    "#with open(output_file_name, \"w\") as toml_file:\n",
    "#    toml.dump(forcefield, toml_file)\n",
    "\n",
    "\n",
    "with open(output_file_name.replace(\"toml\",\"json\"), \"w\") as toml_file:\n",
    "    json.dump(forcefield,toml_file,indent=1)"
   ]
  }
 ],
 "metadata": {
  "kernelspec": {
   "display_name": "Python 3 (ipykernel)",
   "language": "python",
   "name": "python3"
  },
  "language_info": {
   "codemirror_mode": {
    "name": "ipython",
    "version": 3
   },
   "file_extension": ".py",
   "mimetype": "text/x-python",
   "name": "python",
   "nbconvert_exporter": "python",
   "pygments_lexer": "ipython3",
   "version": "3.11.8"
  }
 },
 "nbformat": 4,
 "nbformat_minor": 4
}
